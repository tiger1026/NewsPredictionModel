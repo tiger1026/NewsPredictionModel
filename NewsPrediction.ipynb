{
 "cells": [
  {
   "cell_type": "code",
   "execution_count": 1,
   "metadata": {
    "scrolled": true
   },
   "outputs": [],
   "source": [
    "#This code is a practice coding project from https://www.kaggle.com/ndrewgele/omg-nlp-with-the-djia-and-reddit\n",
    "# The data is also provided from https://www.kaggle.com/aaron7sun/stocknews\n",
    "\n",
    "\n",
    "import numpy as np #linear algebra\n",
    "import pandas as pd #data analysis tool for python\n",
    "from sklearn.feature_extraction.text import CountVectorizer\n",
    "from sklearn.linear_model import LogisticRegression\n",
    "from sklearn.metrics import accuracy_score\n",
    "from warnings import simplefilter\n",
    "\n",
    "\n",
    "RedditNews = pd.read_csv(\"RedditNews.csv\")    #reading in data\n",
    "DJIA = pd.read_csv(\"DJIA_table.csv\")\n",
    "CombinedNews = pd.read_csv(\"Combined_News_DJIA.csv\")\n",
    "#CombinedNews.head()   # check the header of our data\n",
    "\n",
    "#the Label variable will be a 1 if the DJIA stayed the same or rose on that date \n",
    "#or 0 if the DJIA fell on that date.\n"
   ]
  },
  {
   "cell_type": "code",
   "execution_count": 2,
   "metadata": {
    "scrolled": true
   },
   "outputs": [],
   "source": [
    "# Split the data into a training set and a testing set \n",
    "# All dates up to end of 2014 as training and rest as testing\n",
    "Train = CombinedNews[CombinedNews['Date'] < '2015-01-01']   \n",
    "Test = CombinedNews[CombinedNews['Date'] > '2014-12-31']\n"
   ]
  },
  {
   "cell_type": "code",
   "execution_count": 3,
   "metadata": {},
   "outputs": [],
   "source": [
    "# Before we process data we need to do some text processing, \n",
    "# and we will accomplish that with sklearn functions that we have imported.\n",
    "\n",
    "#    - Turn sentence into lower case letters \n",
    "#    - Split sentence into individual words\n",
    "#    - remove meaningless words\n",
    "#    - transforming that into a table of counts"
   ]
  },
  {
   "cell_type": "code",
   "execution_count": 4,
   "metadata": {
    "scrolled": false
   },
   "outputs": [],
   "source": [
    "# Use for loop to iterate through each row of data so that we can have it as a single\n",
    "# list of data\n",
    "\n",
    "TrainHeadlines = []\n",
    "for row in range(0,len(Train.index)):    #for loop throught the rows of the data \n",
    "    TrainHeadlines.append(' '.join(str(x) for x in Train.iloc[row, 2:27])) \n",
    "    # x is columns, from column 2 to 27 is the headlines.\n",
    "    # remember to seperate headlines with a space ' ' for later seperation.\n",
    "    \n",
    "#TrainHeadlines[:10]"
   ]
  },
  {
   "cell_type": "code",
   "execution_count": 5,
   "metadata": {
    "scrolled": true
   },
   "outputs": [
    {
     "name": "stdout",
     "output_type": "stream",
     "text": [
      "(1611, 31675)\n"
     ]
    }
   ],
   "source": [
    "# Initialize CountVectorizer() and find the table of words and the count of words\n",
    "\n",
    "BasicVectorizer = CountVectorizer()\n",
    "BasicTrain = BasicVectorizer.fit_transform(TrainHeadlines)\n",
    "print(BasicTrain.shape)"
   ]
  },
  {
   "cell_type": "code",
   "execution_count": 17,
   "metadata": {
    "scrolled": true
   },
   "outputs": [
    {
     "ename": "NameError",
     "evalue": "name 'simplefilter' is not defined",
     "output_type": "error",
     "traceback": [
      "\u001b[0;31m---------------------------------------------------------------------------\u001b[0m",
      "\u001b[0;31mNameError\u001b[0m                                 Traceback (most recent call last)",
      "\u001b[0;32m<ipython-input-17-b2a685e106bc>\u001b[0m in \u001b[0;36m<module>\u001b[0;34m\u001b[0m\n\u001b[1;32m      4\u001b[0m \u001b[0mTrainModel\u001b[0m \u001b[0;34m=\u001b[0m \u001b[0mLogisticRegression\u001b[0m\u001b[0;34m(\u001b[0m\u001b[0;34m)\u001b[0m\u001b[0;34m\u001b[0m\u001b[0;34m\u001b[0m\u001b[0m\n\u001b[1;32m      5\u001b[0m \u001b[0mTrainModel\u001b[0m \u001b[0;34m=\u001b[0m \u001b[0mTrainModel\u001b[0m\u001b[0;34m.\u001b[0m\u001b[0mfit\u001b[0m\u001b[0;34m(\u001b[0m\u001b[0mBasicTrain\u001b[0m\u001b[0;34m,\u001b[0m \u001b[0mTrain\u001b[0m\u001b[0;34m[\u001b[0m\u001b[0;34m\"Label\"\u001b[0m\u001b[0;34m]\u001b[0m\u001b[0;34m)\u001b[0m\u001b[0;34m\u001b[0m\u001b[0;34m\u001b[0m\u001b[0m\n\u001b[0;32m----> 6\u001b[0;31m \u001b[0msimplefilter\u001b[0m\u001b[0;34m(\u001b[0m\u001b[0maction\u001b[0m\u001b[0;34m=\u001b[0m\u001b[0;34m'ignore'\u001b[0m\u001b[0;34m,\u001b[0m \u001b[0mcategory\u001b[0m\u001b[0;34m=\u001b[0m\u001b[0mFutureWarning\u001b[0m\u001b[0;34m)\u001b[0m\u001b[0;34m\u001b[0m\u001b[0;34m\u001b[0m\u001b[0m\n\u001b[0m",
      "\u001b[0;31mNameError\u001b[0m: name 'simplefilter' is not defined"
     ]
    }
   ],
   "source": [
    "# Now we put the data into a logistic model\n",
    "# Fit the X and Y values of our BasicModel\n",
    "\n",
    "TrainModel = LogisticRegression()\n",
    "TrainModel = TrainModel.fit(BasicTrain, Train[\"Label\"])"
   ]
  },
  {
   "cell_type": "code",
   "execution_count": 7,
   "metadata": {},
   "outputs": [],
   "source": [
    "# Word processing for our test data\n",
    "\n",
    "TestHeadlines = []\n",
    "for row in range(0,len(Test.index)):\n",
    "    TestHeadlines.append(' '.join(str(x) for x in Test.iloc[row,2:27]))\n",
    "    \n",
    "# predicting our test model with our training model.\n",
    "BasicTest = BasicVectorizer.transform(TestHeadlines)\n",
    "Predictions = TrainModel.predict(BasicTest)"
   ]
  },
  {
   "cell_type": "code",
   "execution_count": 8,
   "metadata": {},
   "outputs": [
    {
     "data": {
      "text/html": [
       "<div>\n",
       "<style scoped>\n",
       "    .dataframe tbody tr th:only-of-type {\n",
       "        vertical-align: middle;\n",
       "    }\n",
       "\n",
       "    .dataframe tbody tr th {\n",
       "        vertical-align: top;\n",
       "    }\n",
       "\n",
       "    .dataframe thead th {\n",
       "        text-align: right;\n",
       "    }\n",
       "</style>\n",
       "<table border=\"1\" class=\"dataframe\">\n",
       "  <thead>\n",
       "    <tr style=\"text-align: right;\">\n",
       "      <th>Predicted</th>\n",
       "      <th>0</th>\n",
       "      <th>1</th>\n",
       "    </tr>\n",
       "    <tr>\n",
       "      <th>Actual</th>\n",
       "      <th></th>\n",
       "      <th></th>\n",
       "    </tr>\n",
       "  </thead>\n",
       "  <tbody>\n",
       "    <tr>\n",
       "      <th>0</th>\n",
       "      <td>61</td>\n",
       "      <td>125</td>\n",
       "    </tr>\n",
       "    <tr>\n",
       "      <th>1</th>\n",
       "      <td>92</td>\n",
       "      <td>100</td>\n",
       "    </tr>\n",
       "  </tbody>\n",
       "</table>\n",
       "</div>"
      ],
      "text/plain": [
       "Predicted   0    1\n",
       "Actual            \n",
       "0          61  125\n",
       "1          92  100"
      ]
     },
     "execution_count": 8,
     "metadata": {},
     "output_type": "execute_result"
    }
   ],
   "source": [
    "# Check frqueccy with crosstab table\n",
    "pd.crosstab(Test[\"Label\"], Predictions, rownames=[\"Actual\"], colnames=[\"Predicted\"])"
   ]
  },
  {
   "cell_type": "code",
   "execution_count": 9,
   "metadata": {},
   "outputs": [
    {
     "name": "stdout",
     "output_type": "stream",
     "text": [
      "0.42592592592592593\n"
     ]
    }
   ],
   "source": [
    "# calculate the accuracy of our prediction\n",
    "Accuracy = (61+100)/(61+92+125+100)\n",
    "print(Accuracy)\n",
    "# Accuracy is just about 42%, so it seems like the model is not that reliable. "
   ]
  },
  {
   "cell_type": "code",
   "execution_count": 14,
   "metadata": {},
   "outputs": [
    {
     "data": {
      "text/html": [
       "<div>\n",
       "<style scoped>\n",
       "    .dataframe tbody tr th:only-of-type {\n",
       "        vertical-align: middle;\n",
       "    }\n",
       "\n",
       "    .dataframe tbody tr th {\n",
       "        vertical-align: top;\n",
       "    }\n",
       "\n",
       "    .dataframe thead th {\n",
       "        text-align: right;\n",
       "    }\n",
       "</style>\n",
       "<table border=\"1\" class=\"dataframe\">\n",
       "  <thead>\n",
       "    <tr style=\"text-align: right;\">\n",
       "      <th></th>\n",
       "      <th>Word</th>\n",
       "      <th>Coeff</th>\n",
       "    </tr>\n",
       "  </thead>\n",
       "  <tbody>\n",
       "    <tr>\n",
       "      <th>19419</th>\n",
       "      <td>nigeria</td>\n",
       "      <td>0.497924</td>\n",
       "    </tr>\n",
       "    <tr>\n",
       "      <th>25261</th>\n",
       "      <td>self</td>\n",
       "      <td>0.452526</td>\n",
       "    </tr>\n",
       "    <tr>\n",
       "      <th>29286</th>\n",
       "      <td>tv</td>\n",
       "      <td>0.428011</td>\n",
       "    </tr>\n",
       "    <tr>\n",
       "      <th>15998</th>\n",
       "      <td>korea</td>\n",
       "      <td>0.425863</td>\n",
       "    </tr>\n",
       "    <tr>\n",
       "      <th>20135</th>\n",
       "      <td>olympics</td>\n",
       "      <td>0.425716</td>\n",
       "    </tr>\n",
       "    <tr>\n",
       "      <th>15843</th>\n",
       "      <td>kills</td>\n",
       "      <td>0.411636</td>\n",
       "    </tr>\n",
       "    <tr>\n",
       "      <th>26323</th>\n",
       "      <td>so</td>\n",
       "      <td>0.411267</td>\n",
       "    </tr>\n",
       "    <tr>\n",
       "      <th>29256</th>\n",
       "      <td>turn</td>\n",
       "      <td>0.394855</td>\n",
       "    </tr>\n",
       "    <tr>\n",
       "      <th>10874</th>\n",
       "      <td>fears</td>\n",
       "      <td>0.388555</td>\n",
       "    </tr>\n",
       "    <tr>\n",
       "      <th>28274</th>\n",
       "      <td>territory</td>\n",
       "      <td>0.384031</td>\n",
       "    </tr>\n",
       "  </tbody>\n",
       "</table>\n",
       "</div>"
      ],
      "text/plain": [
       "            Word     Coeff\n",
       "19419    nigeria  0.497924\n",
       "25261       self  0.452526\n",
       "29286         tv  0.428011\n",
       "15998      korea  0.425863\n",
       "20135   olympics  0.425716\n",
       "15843      kills  0.411636\n",
       "26323         so  0.411267\n",
       "29256       turn  0.394855\n",
       "10874      fears  0.388555\n",
       "28274  territory  0.384031"
      ]
     },
     "execution_count": 14,
     "metadata": {},
     "output_type": "execute_result"
    }
   ],
   "source": [
    "# Now we take a look at the coefficients of the model\n",
    "\n",
    "BasicWords = BasicVectorizer.get_feature_names()\n",
    "BasicCoefficients = TrainModel.coef_.tolist()[0]\n",
    "coeffdf = pd.DataFrame({\"Word\" : BasicWords,\n",
    "                        \"Coeff\" : BasicCoefficients})\n",
    "\n",
    "coeffdf = coeffdf.sort_values(['Coeff', 'Word'], ascending=[0, 1])\n",
    "coeffdf.head(10) # most positive coefficients\n"
   ]
  },
  {
   "cell_type": "code",
   "execution_count": 16,
   "metadata": {},
   "outputs": [
    {
     "data": {
      "text/html": [
       "<div>\n",
       "<style scoped>\n",
       "    .dataframe tbody tr th:only-of-type {\n",
       "        vertical-align: middle;\n",
       "    }\n",
       "\n",
       "    .dataframe tbody tr th {\n",
       "        vertical-align: top;\n",
       "    }\n",
       "\n",
       "    .dataframe thead th {\n",
       "        text-align: right;\n",
       "    }\n",
       "</style>\n",
       "<table border=\"1\" class=\"dataframe\">\n",
       "  <thead>\n",
       "    <tr style=\"text-align: right;\">\n",
       "      <th></th>\n",
       "      <th>Word</th>\n",
       "      <th>Coeff</th>\n",
       "    </tr>\n",
       "  </thead>\n",
       "  <tbody>\n",
       "    <tr>\n",
       "      <th>27299</th>\n",
       "      <td>students</td>\n",
       "      <td>-0.424441</td>\n",
       "    </tr>\n",
       "    <tr>\n",
       "      <th>8478</th>\n",
       "      <td>did</td>\n",
       "      <td>-0.427079</td>\n",
       "    </tr>\n",
       "    <tr>\n",
       "      <th>6683</th>\n",
       "      <td>congo</td>\n",
       "      <td>-0.431925</td>\n",
       "    </tr>\n",
       "    <tr>\n",
       "      <th>12818</th>\n",
       "      <td>hacking</td>\n",
       "      <td>-0.444069</td>\n",
       "    </tr>\n",
       "    <tr>\n",
       "      <th>7139</th>\n",
       "      <td>country</td>\n",
       "      <td>-0.448570</td>\n",
       "    </tr>\n",
       "    <tr>\n",
       "      <th>16949</th>\n",
       "      <td>low</td>\n",
       "      <td>-0.463116</td>\n",
       "    </tr>\n",
       "    <tr>\n",
       "      <th>3651</th>\n",
       "      <td>begin</td>\n",
       "      <td>-0.470454</td>\n",
       "    </tr>\n",
       "    <tr>\n",
       "      <th>25433</th>\n",
       "      <td>sex</td>\n",
       "      <td>-0.494555</td>\n",
       "    </tr>\n",
       "    <tr>\n",
       "      <th>24754</th>\n",
       "      <td>sanctions</td>\n",
       "      <td>-0.549725</td>\n",
       "    </tr>\n",
       "    <tr>\n",
       "      <th>24542</th>\n",
       "      <td>run</td>\n",
       "      <td>-0.587794</td>\n",
       "    </tr>\n",
       "  </tbody>\n",
       "</table>\n",
       "</div>"
      ],
      "text/plain": [
       "            Word     Coeff\n",
       "27299   students -0.424441\n",
       "8478         did -0.427079\n",
       "6683       congo -0.431925\n",
       "12818    hacking -0.444069\n",
       "7139     country -0.448570\n",
       "16949        low -0.463116\n",
       "3651       begin -0.470454\n",
       "25433        sex -0.494555\n",
       "24754  sanctions -0.549725\n",
       "24542        run -0.587794"
      ]
     },
     "execution_count": 16,
     "metadata": {},
     "output_type": "execute_result"
    }
   ],
   "source": [
    "# Most negative coefficients\n",
    "coeffdf.tail(10) \n",
    "\n",
    "# Now we can see which words actually affect our model, and the larger the coefficient the higher chance  \n",
    "# it appears on the headline\n",
    "\n",
    "# This model gets the chance of a word appearing in the headline. Which usually isnt that reliable because \n",
    "# words are more meaningful when it is in sentences. "
   ]
  },
  {
   "cell_type": "code",
   "execution_count": null,
   "metadata": {},
   "outputs": [],
   "source": []
  }
 ],
 "metadata": {
  "kernelspec": {
   "display_name": "Python 3",
   "language": "python",
   "name": "python3"
  },
  "language_info": {
   "codemirror_mode": {
    "name": "ipython",
    "version": 3
   },
   "file_extension": ".py",
   "mimetype": "text/x-python",
   "name": "python",
   "nbconvert_exporter": "python",
   "pygments_lexer": "ipython3",
   "version": "3.7.3"
  }
 },
 "nbformat": 4,
 "nbformat_minor": 2
}
