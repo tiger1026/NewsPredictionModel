{
 "cells": [
  {
   "cell_type": "code",
   "execution_count": 1,
   "metadata": {
    "scrolled": true
   },
   "outputs": [],
   "source": [
    "#This code is a practice coding project from https://www.kaggle.com/ndrewgele/omg-nlp-with-the-djia-and-reddit\n",
    "# The data is also provided from https://www.kaggle.com/aaron7sun/stocknews\n",
    "\n",
    "\n",
    "import numpy as np #linear algebra\n",
    "import pandas as pd #data analysis tool for python\n",
    "from sklearn.feature_extraction.text import CountVectorizer\n",
    "from sklearn.linear_model import LogisticRegression\n",
    "from sklearn.metrics import accuracy_score\n",
    "from warnings import simplefilter\n",
    "\n",
    "\n",
    "RedditNews = pd.read_csv(\"RedditNews.csv\")    #reading in data\n",
    "DJIA = pd.read_csv(\"DJIA_table.csv\")\n",
    "CombinedNews = pd.read_csv(\"Combined_News_DJIA.csv\")\n",
    "#CombinedNews.head()   # check the header of our data\n",
    "\n",
    "#the Label variable will be a 1 if the DJIA stayed the same or rose on that date \n",
    "#or 0 if the DJIA fell on that date.\n"
   ]
  },
  {
   "cell_type": "code",
   "execution_count": 2,
   "metadata": {
    "scrolled": true
   },
   "outputs": [],
   "source": [
    "# Split the data into a training set and a testing set \n",
    "# All dates up to end of 2014 as training and rest as testing\n",
    "Train = CombinedNews[CombinedNews['Date'] < '2015-01-01']   \n",
    "Test = CombinedNews[CombinedNews['Date'] > '2014-12-31']\n"
   ]
  },
  {
   "cell_type": "code",
   "execution_count": 3,
   "metadata": {},
   "outputs": [],
   "source": [
    "# Before we process data we need to do some text processing, \n",
    "# and we will accomplish that with sklearn functions that we have imported.\n",
    "\n",
    "#    - Turn sentence into lower case letters \n",
    "#    - Split sentence into individual words\n",
    "#    - remove meaningless words\n",
    "#    - transforming that into a table of counts"
   ]
  },
  {
   "cell_type": "code",
   "execution_count": 4,
   "metadata": {
    "scrolled": false
   },
   "outputs": [],
   "source": [
    "# Use for loop to iterate through each row of data so that we can have it as a single\n",
    "# list of data\n",
    "\n",
    "TrainHeadlines = []\n",
    "for row in range(0,len(Train.index)):    #for loop throught the rows of the data \n",
    "    TrainHeadlines.append(' '.join(str(x) for x in Train.iloc[row, 2:27])) \n",
    "    # x is columns, from column 2 to 27 is the headlines.\n",
    "    # remember to seperate headlines with a space ' ' for later seperation.\n",
    "    \n",
    "#TrainHeadlines[:10]"
   ]
  },
  {
   "cell_type": "code",
   "execution_count": 5,
   "metadata": {
    "scrolled": true
   },
   "outputs": [
    {
     "name": "stdout",
     "output_type": "stream",
     "text": [
      "(1611, 31675)\n"
     ]
    }
   ],
   "source": [
    "# Initialize CountVectorizer() and find the table of words and the count of words\n",
    "\n",
    "BasicVectorizer = CountVectorizer()\n",
    "BasicTrain = BasicVectorizer.fit_transform(TrainHeadlines)\n",
    "print(BasicTrain.shape)"
   ]
  },
  {
   "cell_type": "code",
   "execution_count": 6,
   "metadata": {
    "scrolled": true
   },
   "outputs": [
    {
     "name": "stderr",
     "output_type": "stream",
     "text": [
      "/anaconda3/lib/python3.7/site-packages/sklearn/linear_model/logistic.py:433: FutureWarning: Default solver will be changed to 'lbfgs' in 0.22. Specify a solver to silence this warning.\n",
      "  FutureWarning)\n"
     ]
    }
   ],
   "source": [
    "# Now we put the data into a logistic model\n",
    "# Fit the X and Y values of our BasicModel\n",
    "\n",
    "TrainModel = LogisticRegression()\n",
    "TrainModel = TrainModel.fit(BasicTrain, Train[\"Label\"])"
   ]
  },
  {
   "cell_type": "code",
   "execution_count": 7,
   "metadata": {},
   "outputs": [],
   "source": [
    "# Word processing for our test data\n",
    "\n",
    "TestHeadlines = []\n",
    "for row in range(0,len(Test.index)):\n",
    "    TestHeadlines.append(' '.join(str(x) for x in Test.iloc[row,2:27]))\n",
    "    \n",
    "# predicting our test model with our training model.\n",
    "BasicTest = BasicVectorizer.transform(TestHeadlines)\n",
    "Predictions = TrainModel.predict(BasicTest)"
   ]
  },
  {
   "cell_type": "code",
   "execution_count": 8,
   "metadata": {},
   "outputs": [
    {
     "data": {
      "text/html": [
       "<div>\n",
       "<style scoped>\n",
       "    .dataframe tbody tr th:only-of-type {\n",
       "        vertical-align: middle;\n",
       "    }\n",
       "\n",
       "    .dataframe tbody tr th {\n",
       "        vertical-align: top;\n",
       "    }\n",
       "\n",
       "    .dataframe thead th {\n",
       "        text-align: right;\n",
       "    }\n",
       "</style>\n",
       "<table border=\"1\" class=\"dataframe\">\n",
       "  <thead>\n",
       "    <tr style=\"text-align: right;\">\n",
       "      <th>Predicted</th>\n",
       "      <th>0</th>\n",
       "      <th>1</th>\n",
       "    </tr>\n",
       "    <tr>\n",
       "      <th>Actual</th>\n",
       "      <th></th>\n",
       "      <th></th>\n",
       "    </tr>\n",
       "  </thead>\n",
       "  <tbody>\n",
       "    <tr>\n",
       "      <th>0</th>\n",
       "      <td>61</td>\n",
       "      <td>125</td>\n",
       "    </tr>\n",
       "    <tr>\n",
       "      <th>1</th>\n",
       "      <td>92</td>\n",
       "      <td>100</td>\n",
       "    </tr>\n",
       "  </tbody>\n",
       "</table>\n",
       "</div>"
      ],
      "text/plain": [
       "Predicted   0    1\n",
       "Actual            \n",
       "0          61  125\n",
       "1          92  100"
      ]
     },
     "execution_count": 8,
     "metadata": {},
     "output_type": "execute_result"
    }
   ],
   "source": [
    "# Check frqueccy with crosstab table\n",
    "pd.crosstab(Test[\"Label\"], Predictions, rownames=[\"Actual\"], colnames=[\"Predicted\"])"
   ]
  },
  {
   "cell_type": "code",
   "execution_count": 9,
   "metadata": {},
   "outputs": [
    {
     "name": "stdout",
     "output_type": "stream",
     "text": [
      "0.42592592592592593\n"
     ]
    }
   ],
   "source": [
    "# calculate the accuracy of our prediction\n",
    "Accuracy = (61+100)/(61+92+125+100)\n",
    "print(Accuracy)\n",
    "# Accuracy is just about 42%, so it seems like the model is not that reliable. "
   ]
  },
  {
   "cell_type": "code",
   "execution_count": 10,
   "metadata": {},
   "outputs": [
    {
     "data": {
      "text/html": [
       "<div>\n",
       "<style scoped>\n",
       "    .dataframe tbody tr th:only-of-type {\n",
       "        vertical-align: middle;\n",
       "    }\n",
       "\n",
       "    .dataframe tbody tr th {\n",
       "        vertical-align: top;\n",
       "    }\n",
       "\n",
       "    .dataframe thead th {\n",
       "        text-align: right;\n",
       "    }\n",
       "</style>\n",
       "<table border=\"1\" class=\"dataframe\">\n",
       "  <thead>\n",
       "    <tr style=\"text-align: right;\">\n",
       "      <th></th>\n",
       "      <th>Word</th>\n",
       "      <th>Coeff</th>\n",
       "    </tr>\n",
       "  </thead>\n",
       "  <tbody>\n",
       "    <tr>\n",
       "      <th>19419</th>\n",
       "      <td>nigeria</td>\n",
       "      <td>0.497924</td>\n",
       "    </tr>\n",
       "    <tr>\n",
       "      <th>25261</th>\n",
       "      <td>self</td>\n",
       "      <td>0.452526</td>\n",
       "    </tr>\n",
       "    <tr>\n",
       "      <th>29286</th>\n",
       "      <td>tv</td>\n",
       "      <td>0.428011</td>\n",
       "    </tr>\n",
       "    <tr>\n",
       "      <th>15998</th>\n",
       "      <td>korea</td>\n",
       "      <td>0.425863</td>\n",
       "    </tr>\n",
       "    <tr>\n",
       "      <th>20135</th>\n",
       "      <td>olympics</td>\n",
       "      <td>0.425716</td>\n",
       "    </tr>\n",
       "    <tr>\n",
       "      <th>15843</th>\n",
       "      <td>kills</td>\n",
       "      <td>0.411636</td>\n",
       "    </tr>\n",
       "    <tr>\n",
       "      <th>26323</th>\n",
       "      <td>so</td>\n",
       "      <td>0.411267</td>\n",
       "    </tr>\n",
       "    <tr>\n",
       "      <th>29256</th>\n",
       "      <td>turn</td>\n",
       "      <td>0.394855</td>\n",
       "    </tr>\n",
       "    <tr>\n",
       "      <th>10874</th>\n",
       "      <td>fears</td>\n",
       "      <td>0.388555</td>\n",
       "    </tr>\n",
       "    <tr>\n",
       "      <th>28274</th>\n",
       "      <td>territory</td>\n",
       "      <td>0.384031</td>\n",
       "    </tr>\n",
       "  </tbody>\n",
       "</table>\n",
       "</div>"
      ],
      "text/plain": [
       "            Word     Coeff\n",
       "19419    nigeria  0.497924\n",
       "25261       self  0.452526\n",
       "29286         tv  0.428011\n",
       "15998      korea  0.425863\n",
       "20135   olympics  0.425716\n",
       "15843      kills  0.411636\n",
       "26323         so  0.411267\n",
       "29256       turn  0.394855\n",
       "10874      fears  0.388555\n",
       "28274  territory  0.384031"
      ]
     },
     "execution_count": 10,
     "metadata": {},
     "output_type": "execute_result"
    }
   ],
   "source": [
    "# Now we take a look at the coefficients of the model\n",
    "\n",
    "BasicWords = BasicVectorizer.get_feature_names()\n",
    "BasicCoefficients = TrainModel.coef_.tolist()[0]\n",
    "coeffdf = pd.DataFrame({\"Word\" : BasicWords,\n",
    "                        \"Coeff\" : BasicCoefficients})\n",
    "\n",
    "coeffdf = coeffdf.sort_values(['Coeff', 'Word'], ascending=[0, 1])\n",
    "coeffdf.head(10) # most positive coefficients\n"
   ]
  },
  {
   "cell_type": "code",
   "execution_count": 11,
   "metadata": {},
   "outputs": [
    {
     "data": {
      "text/html": [
       "<div>\n",
       "<style scoped>\n",
       "    .dataframe tbody tr th:only-of-type {\n",
       "        vertical-align: middle;\n",
       "    }\n",
       "\n",
       "    .dataframe tbody tr th {\n",
       "        vertical-align: top;\n",
       "    }\n",
       "\n",
       "    .dataframe thead th {\n",
       "        text-align: right;\n",
       "    }\n",
       "</style>\n",
       "<table border=\"1\" class=\"dataframe\">\n",
       "  <thead>\n",
       "    <tr style=\"text-align: right;\">\n",
       "      <th></th>\n",
       "      <th>Word</th>\n",
       "      <th>Coeff</th>\n",
       "    </tr>\n",
       "  </thead>\n",
       "  <tbody>\n",
       "    <tr>\n",
       "      <th>27299</th>\n",
       "      <td>students</td>\n",
       "      <td>-0.424441</td>\n",
       "    </tr>\n",
       "    <tr>\n",
       "      <th>8478</th>\n",
       "      <td>did</td>\n",
       "      <td>-0.427079</td>\n",
       "    </tr>\n",
       "    <tr>\n",
       "      <th>6683</th>\n",
       "      <td>congo</td>\n",
       "      <td>-0.431925</td>\n",
       "    </tr>\n",
       "    <tr>\n",
       "      <th>12818</th>\n",
       "      <td>hacking</td>\n",
       "      <td>-0.444069</td>\n",
       "    </tr>\n",
       "    <tr>\n",
       "      <th>7139</th>\n",
       "      <td>country</td>\n",
       "      <td>-0.448570</td>\n",
       "    </tr>\n",
       "    <tr>\n",
       "      <th>16949</th>\n",
       "      <td>low</td>\n",
       "      <td>-0.463116</td>\n",
       "    </tr>\n",
       "    <tr>\n",
       "      <th>3651</th>\n",
       "      <td>begin</td>\n",
       "      <td>-0.470454</td>\n",
       "    </tr>\n",
       "    <tr>\n",
       "      <th>25433</th>\n",
       "      <td>sex</td>\n",
       "      <td>-0.494555</td>\n",
       "    </tr>\n",
       "    <tr>\n",
       "      <th>24754</th>\n",
       "      <td>sanctions</td>\n",
       "      <td>-0.549725</td>\n",
       "    </tr>\n",
       "    <tr>\n",
       "      <th>24542</th>\n",
       "      <td>run</td>\n",
       "      <td>-0.587794</td>\n",
       "    </tr>\n",
       "  </tbody>\n",
       "</table>\n",
       "</div>"
      ],
      "text/plain": [
       "            Word     Coeff\n",
       "27299   students -0.424441\n",
       "8478         did -0.427079\n",
       "6683       congo -0.431925\n",
       "12818    hacking -0.444069\n",
       "7139     country -0.448570\n",
       "16949        low -0.463116\n",
       "3651       begin -0.470454\n",
       "25433        sex -0.494555\n",
       "24754  sanctions -0.549725\n",
       "24542        run -0.587794"
      ]
     },
     "execution_count": 11,
     "metadata": {},
     "output_type": "execute_result"
    }
   ],
   "source": [
    "# Most negative coefficients\n",
    "coeffdf.tail(10) \n",
    "\n",
    "# Now we can see which words actually affect our model, and the larger the coefficient the higher chance  \n",
    "# it appears on the headline\n",
    "\n",
    "# This model gets the chance of a word appearing in the headline. Which usually isnt that reliable because \n",
    "# words are more meaningful when it is in sentences. "
   ]
  },
  {
   "cell_type": "code",
   "execution_count": 15,
   "metadata": {},
   "outputs": [
    {
     "name": "stdout",
     "output_type": "stream",
     "text": [
      "(1611, 366721)\n"
     ]
    }
   ],
   "source": [
    "# the above is my practice of the n-bag model from the source. And now for an more advanced model called\n",
    "# the n-model, where n is the sequence of words counted. So the model above is a model where n = 1, \n",
    "# and now we will try to run the n-model where n = 2.\n",
    "\n",
    "# we now define a new CountVectorizer with the parameter set n=2.\n",
    "\n",
    "AdvancedVectorizer = CountVectorizer(ngram_range = (2,2))\n",
    "AdvancedTrain = AdvancedVectorizer.fit_transform(TrainHeadlines)\n",
    "print(AdvancedTrain.shape)\n",
    "\n",
    "# This time we have 366721 variables representing two-word combonations."
   ]
  },
  {
   "cell_type": "code",
   "execution_count": 17,
   "metadata": {},
   "outputs": [],
   "source": [
    "# define Model\n",
    "AdvancedModel = LogisticRegression()\n",
    "# Fit X and Y values into the advanced model\n",
    "AdvancedModel = AdvancedModel.fit(AdvancedTrain, Train[\"Label\"])\n",
    "\n"
   ]
  },
  {
   "cell_type": "code",
   "execution_count": 20,
   "metadata": {},
   "outputs": [],
   "source": [
    "# Word processing for our test data\n",
    "\n",
    "TestHeadlines = []\n",
    "for row in range(0,len(Test.index)):\n",
    "    TestHeadlines.append(' '.join(str(x) for x in Test.iloc[row,2:27]))\n",
    "    \n",
    "# predicting our test model with our training model.\n",
    "AdvancedTest = AdvancedVectorizer.transform(TestHeadlines)\n",
    "AdvancedPredictions = AdvancedModel.predict(AdvancedTest)"
   ]
  },
  {
   "cell_type": "code",
   "execution_count": 21,
   "metadata": {},
   "outputs": [
    {
     "data": {
      "text/html": [
       "<div>\n",
       "<style scoped>\n",
       "    .dataframe tbody tr th:only-of-type {\n",
       "        vertical-align: middle;\n",
       "    }\n",
       "\n",
       "    .dataframe tbody tr th {\n",
       "        vertical-align: top;\n",
       "    }\n",
       "\n",
       "    .dataframe thead th {\n",
       "        text-align: right;\n",
       "    }\n",
       "</style>\n",
       "<table border=\"1\" class=\"dataframe\">\n",
       "  <thead>\n",
       "    <tr style=\"text-align: right;\">\n",
       "      <th>Predicted</th>\n",
       "      <th>0</th>\n",
       "      <th>1</th>\n",
       "    </tr>\n",
       "    <tr>\n",
       "      <th>Actual</th>\n",
       "      <th></th>\n",
       "      <th></th>\n",
       "    </tr>\n",
       "  </thead>\n",
       "  <tbody>\n",
       "    <tr>\n",
       "      <th>0</th>\n",
       "      <td>66</td>\n",
       "      <td>120</td>\n",
       "    </tr>\n",
       "    <tr>\n",
       "      <th>1</th>\n",
       "      <td>45</td>\n",
       "      <td>147</td>\n",
       "    </tr>\n",
       "  </tbody>\n",
       "</table>\n",
       "</div>"
      ],
      "text/plain": [
       "Predicted   0    1\n",
       "Actual            \n",
       "0          66  120\n",
       "1          45  147"
      ]
     },
     "execution_count": 21,
     "metadata": {},
     "output_type": "execute_result"
    }
   ],
   "source": [
    "# Show data with Crosstab\n",
    "\n",
    "pd.crosstab(Test[\"Label\"], AdvancedPredictions, rownames=[\"Actual\"], colnames=[\"Predicted\"])"
   ]
  },
  {
   "cell_type": "code",
   "execution_count": 22,
   "metadata": {},
   "outputs": [
    {
     "name": "stdout",
     "output_type": "stream",
     "text": [
      "0.5634920634920635\n"
     ]
    }
   ],
   "source": [
    "AdvancedAccuracy = (66+147)/(66+45+120+147)\n",
    "print(AdvancedAccuracy)\n",
    "\n",
    "# Now we see that the accuaracy has improved a bit, but its still not too reliable."
   ]
  },
  {
   "cell_type": "code",
   "execution_count": 23,
   "metadata": {},
   "outputs": [
    {
     "data": {
      "text/html": [
       "<div>\n",
       "<style scoped>\n",
       "    .dataframe tbody tr th:only-of-type {\n",
       "        vertical-align: middle;\n",
       "    }\n",
       "\n",
       "    .dataframe tbody tr th {\n",
       "        vertical-align: top;\n",
       "    }\n",
       "\n",
       "    .dataframe thead th {\n",
       "        text-align: right;\n",
       "    }\n",
       "</style>\n",
       "<table border=\"1\" class=\"dataframe\">\n",
       "  <thead>\n",
       "    <tr style=\"text-align: right;\">\n",
       "      <th></th>\n",
       "      <th>Word</th>\n",
       "      <th>Coeff</th>\n",
       "    </tr>\n",
       "  </thead>\n",
       "  <tbody>\n",
       "    <tr>\n",
       "      <th>272047</th>\n",
       "      <td>right to</td>\n",
       "      <td>0.286533</td>\n",
       "    </tr>\n",
       "    <tr>\n",
       "      <th>24710</th>\n",
       "      <td>and other</td>\n",
       "      <td>0.275274</td>\n",
       "    </tr>\n",
       "    <tr>\n",
       "      <th>285392</th>\n",
       "      <td>set to</td>\n",
       "      <td>0.274698</td>\n",
       "    </tr>\n",
       "    <tr>\n",
       "      <th>316194</th>\n",
       "      <td>the first</td>\n",
       "      <td>0.262873</td>\n",
       "    </tr>\n",
       "    <tr>\n",
       "      <th>157511</th>\n",
       "      <td>in china</td>\n",
       "      <td>0.227943</td>\n",
       "    </tr>\n",
       "    <tr>\n",
       "      <th>159522</th>\n",
       "      <td>in south</td>\n",
       "      <td>0.224184</td>\n",
       "    </tr>\n",
       "    <tr>\n",
       "      <th>125870</th>\n",
       "      <td>found in</td>\n",
       "      <td>0.219130</td>\n",
       "    </tr>\n",
       "    <tr>\n",
       "      <th>124411</th>\n",
       "      <td>forced to</td>\n",
       "      <td>0.216726</td>\n",
       "    </tr>\n",
       "    <tr>\n",
       "      <th>173246</th>\n",
       "      <td>it has</td>\n",
       "      <td>0.211137</td>\n",
       "    </tr>\n",
       "    <tr>\n",
       "      <th>322590</th>\n",
       "      <td>this is</td>\n",
       "      <td>0.209239</td>\n",
       "    </tr>\n",
       "  </tbody>\n",
       "</table>\n",
       "</div>"
      ],
      "text/plain": [
       "             Word     Coeff\n",
       "272047   right to  0.286533\n",
       "24710   and other  0.275274\n",
       "285392     set to  0.274698\n",
       "316194  the first  0.262873\n",
       "157511   in china  0.227943\n",
       "159522   in south  0.224184\n",
       "125870   found in  0.219130\n",
       "124411  forced to  0.216726\n",
       "173246     it has  0.211137\n",
       "322590    this is  0.209239"
      ]
     },
     "execution_count": 23,
     "metadata": {},
     "output_type": "execute_result"
    }
   ],
   "source": [
    "# Lets Check our coefficients again\n",
    "\n",
    "AdvancedWords = AdvancedVectorizer.get_feature_names()\n",
    "AdvancedCoefficients = AdvancedModel.coef_.tolist()[0]\n",
    "Advcoeffdf = pd.DataFrame({\"Word\" : AdvancedWords,\n",
    "                        \"Coeff\" : AdvancedCoefficients})\n",
    "\n",
    "Advcoeffdf = Advcoeffdf.sort_values(['Coeff', 'Word'], ascending=[0, 1])\n",
    "Advcoeffdf.head(10) # most positive coefficients\n"
   ]
  },
  {
   "cell_type": "code",
   "execution_count": 24,
   "metadata": {},
   "outputs": [
    {
     "data": {
      "text/html": [
       "<div>\n",
       "<style scoped>\n",
       "    .dataframe tbody tr th:only-of-type {\n",
       "        vertical-align: middle;\n",
       "    }\n",
       "\n",
       "    .dataframe tbody tr th {\n",
       "        vertical-align: top;\n",
       "    }\n",
       "\n",
       "    .dataframe thead th {\n",
       "        text-align: right;\n",
       "    }\n",
       "</style>\n",
       "<table border=\"1\" class=\"dataframe\">\n",
       "  <thead>\n",
       "    <tr style=\"text-align: right;\">\n",
       "      <th></th>\n",
       "      <th>Word</th>\n",
       "      <th>Coeff</th>\n",
       "    </tr>\n",
       "  </thead>\n",
       "  <tbody>\n",
       "    <tr>\n",
       "      <th>326846</th>\n",
       "      <td>to help</td>\n",
       "      <td>-0.198495</td>\n",
       "    </tr>\n",
       "    <tr>\n",
       "      <th>118707</th>\n",
       "      <td>fire on</td>\n",
       "      <td>-0.201654</td>\n",
       "    </tr>\n",
       "    <tr>\n",
       "      <th>155038</th>\n",
       "      <td>if he</td>\n",
       "      <td>-0.209702</td>\n",
       "    </tr>\n",
       "    <tr>\n",
       "      <th>242528</th>\n",
       "      <td>people are</td>\n",
       "      <td>-0.211303</td>\n",
       "    </tr>\n",
       "    <tr>\n",
       "      <th>31669</th>\n",
       "      <td>around the</td>\n",
       "      <td>-0.213362</td>\n",
       "    </tr>\n",
       "    <tr>\n",
       "      <th>321333</th>\n",
       "      <td>there is</td>\n",
       "      <td>-0.215699</td>\n",
       "    </tr>\n",
       "    <tr>\n",
       "      <th>327113</th>\n",
       "      <td>to kill</td>\n",
       "      <td>-0.221812</td>\n",
       "    </tr>\n",
       "    <tr>\n",
       "      <th>340714</th>\n",
       "      <td>up in</td>\n",
       "      <td>-0.226289</td>\n",
       "    </tr>\n",
       "    <tr>\n",
       "      <th>358917</th>\n",
       "      <td>with iran</td>\n",
       "      <td>-0.227516</td>\n",
       "    </tr>\n",
       "    <tr>\n",
       "      <th>315485</th>\n",
       "      <td>the country</td>\n",
       "      <td>-0.331153</td>\n",
       "    </tr>\n",
       "  </tbody>\n",
       "</table>\n",
       "</div>"
      ],
      "text/plain": [
       "               Word     Coeff\n",
       "326846      to help -0.198495\n",
       "118707      fire on -0.201654\n",
       "155038        if he -0.209702\n",
       "242528   people are -0.211303\n",
       "31669    around the -0.213362\n",
       "321333     there is -0.215699\n",
       "327113      to kill -0.221812\n",
       "340714        up in -0.226289\n",
       "358917    with iran -0.227516\n",
       "315485  the country -0.331153"
      ]
     },
     "execution_count": 24,
     "metadata": {},
     "output_type": "execute_result"
    }
   ],
   "source": [
    "Advcoeffdf.tail(10) #most negative"
   ]
  },
  {
   "cell_type": "code",
   "execution_count": 50,
   "metadata": {},
   "outputs": [
    {
     "name": "stdout",
     "output_type": "stream",
     "text": [
      "(1611, 673498)\n"
     ]
    }
   ],
   "source": [
    "# now lets practive the entire process again with n = 4 and see what happens\n",
    "# define a new CountVectorizer with n=4.\n",
    "\n",
    "PracticeVectorizer = CountVectorizer(ngram_range = (4,4))\n",
    "PracticeTrain = PracticeVectorizer.fit_transform(TrainHeadlines)\n",
    "print(PracticeTrain.shape)"
   ]
  },
  {
   "cell_type": "code",
   "execution_count": 51,
   "metadata": {},
   "outputs": [],
   "source": [
    "# the 673498 variables are a bit less than what we had when n=2\n",
    "\n",
    "# define logistic model\n",
    "PracticeModel = LogisticRegression()\n",
    "# assign X and Y values \n",
    "PracticeModel = PracticeModel.fit(PracticeTrain, Train[\"Label\"])\n"
   ]
  },
  {
   "cell_type": "code",
   "execution_count": 52,
   "metadata": {},
   "outputs": [],
   "source": [
    "# Word processing \n",
    "\n",
    "TestHeadlines = []\n",
    "for row in range(0,len(Test.index)):\n",
    "    TestHeadlines.append(' '.join(str(x) for x in Test.iloc[row,2:27]))\n",
    "    \n",
    "# predicting our Practice model with our training model.\n",
    "PracticeTest = PracticeVectorizer.transform(TestHeadlines)\n",
    "PracticePredictions = PracticeModel.predict(PracticeTest)"
   ]
  },
  {
   "cell_type": "code",
   "execution_count": 53,
   "metadata": {},
   "outputs": [
    {
     "data": {
      "text/html": [
       "<div>\n",
       "<style scoped>\n",
       "    .dataframe tbody tr th:only-of-type {\n",
       "        vertical-align: middle;\n",
       "    }\n",
       "\n",
       "    .dataframe tbody tr th {\n",
       "        vertical-align: top;\n",
       "    }\n",
       "\n",
       "    .dataframe thead th {\n",
       "        text-align: right;\n",
       "    }\n",
       "</style>\n",
       "<table border=\"1\" class=\"dataframe\">\n",
       "  <thead>\n",
       "    <tr style=\"text-align: right;\">\n",
       "      <th>Predicted</th>\n",
       "      <th>1</th>\n",
       "    </tr>\n",
       "    <tr>\n",
       "      <th>Actual</th>\n",
       "      <th></th>\n",
       "    </tr>\n",
       "  </thead>\n",
       "  <tbody>\n",
       "    <tr>\n",
       "      <th>0</th>\n",
       "      <td>186</td>\n",
       "    </tr>\n",
       "    <tr>\n",
       "      <th>1</th>\n",
       "      <td>192</td>\n",
       "    </tr>\n",
       "  </tbody>\n",
       "</table>\n",
       "</div>"
      ],
      "text/plain": [
       "Predicted    1\n",
       "Actual        \n",
       "0          186\n",
       "1          192"
      ]
     },
     "execution_count": 53,
     "metadata": {},
     "output_type": "execute_result"
    }
   ],
   "source": [
    "pd.crosstab(Test[\"Label\"], PracticePredictions, rownames=[\"Actual\"], colnames=[\"Predicted\"])"
   ]
  },
  {
   "cell_type": "code",
   "execution_count": 58,
   "metadata": {},
   "outputs": [
    {
     "name": "stdout",
     "output_type": "stream",
     "text": [
      "0.5079365079365079\n"
     ]
    }
   ],
   "source": [
    "PracticeAccuracy = (192)/(186+192)\n",
    "print(PracticeAccuracy)\n",
    "\n",
    "# the accuracy decreases compared to the n=2 model"
   ]
  },
  {
   "cell_type": "code",
   "execution_count": 59,
   "metadata": {},
   "outputs": [
    {
     "data": {
      "text/html": [
       "<div>\n",
       "<style scoped>\n",
       "    .dataframe tbody tr th:only-of-type {\n",
       "        vertical-align: middle;\n",
       "    }\n",
       "\n",
       "    .dataframe tbody tr th {\n",
       "        vertical-align: top;\n",
       "    }\n",
       "\n",
       "    .dataframe thead th {\n",
       "        text-align: right;\n",
       "    }\n",
       "</style>\n",
       "<table border=\"1\" class=\"dataframe\">\n",
       "  <thead>\n",
       "    <tr style=\"text-align: right;\">\n",
       "      <th></th>\n",
       "      <th>Word</th>\n",
       "      <th>Coeff</th>\n",
       "    </tr>\n",
       "  </thead>\n",
       "  <tbody>\n",
       "    <tr>\n",
       "      <th>206072</th>\n",
       "      <td>for the first time</td>\n",
       "      <td>0.121389</td>\n",
       "    </tr>\n",
       "    <tr>\n",
       "      <th>245112</th>\n",
       "      <td>have the right to</td>\n",
       "      <td>0.099642</td>\n",
       "    </tr>\n",
       "    <tr>\n",
       "      <th>556317</th>\n",
       "      <td>the first time in</td>\n",
       "      <td>0.090985</td>\n",
       "    </tr>\n",
       "    <tr>\n",
       "      <th>562878</th>\n",
       "      <td>the nobel peace prize</td>\n",
       "      <td>0.090115</td>\n",
       "    </tr>\n",
       "    <tr>\n",
       "      <th>243343</th>\n",
       "      <td>have been killed in</td>\n",
       "      <td>0.088778</td>\n",
       "    </tr>\n",
       "    <tr>\n",
       "      <th>500344</th>\n",
       "      <td>sentenced to death for</td>\n",
       "      <td>0.082785</td>\n",
       "    </tr>\n",
       "    <tr>\n",
       "      <th>266095</th>\n",
       "      <td>in an attempt to</td>\n",
       "      <td>0.080939</td>\n",
       "    </tr>\n",
       "    <tr>\n",
       "      <th>570338</th>\n",
       "      <td>the united states to</td>\n",
       "      <td>0.077340</td>\n",
       "    </tr>\n",
       "    <tr>\n",
       "      <th>614581</th>\n",
       "      <td>turn out to be</td>\n",
       "      <td>0.075059</td>\n",
       "    </tr>\n",
       "    <tr>\n",
       "      <th>280236</th>\n",
       "      <td>in the wake of</td>\n",
       "      <td>0.070850</td>\n",
       "    </tr>\n",
       "  </tbody>\n",
       "</table>\n",
       "</div>"
      ],
      "text/plain": [
       "                          Word     Coeff\n",
       "206072      for the first time  0.121389\n",
       "245112       have the right to  0.099642\n",
       "556317       the first time in  0.090985\n",
       "562878   the nobel peace prize  0.090115\n",
       "243343     have been killed in  0.088778\n",
       "500344  sentenced to death for  0.082785\n",
       "266095        in an attempt to  0.080939\n",
       "570338    the united states to  0.077340\n",
       "614581          turn out to be  0.075059\n",
       "280236          in the wake of  0.070850"
      ]
     },
     "execution_count": 59,
     "metadata": {},
     "output_type": "execute_result"
    }
   ],
   "source": [
    "# Lets Check our coefficients \n",
    "\n",
    "PracticeWords = PracticeVectorizer.get_feature_names()\n",
    "PracticeCoefficients = PracticeModel.coef_.tolist()[0]\n",
    "Pcoeffdf = pd.DataFrame({\"Word\" : PracticeWords,\n",
    "                        \"Coeff\" : PracticeCoefficients})\n",
    "\n",
    "Pcoeffdf = Pcoeffdf.sort_values(['Coeff', 'Word'], ascending=[0, 1])\n",
    "Pcoeffdf.head(10) # most positive coefficients"
   ]
  },
  {
   "cell_type": "code",
   "execution_count": 60,
   "metadata": {},
   "outputs": [
    {
     "data": {
      "text/html": [
       "<div>\n",
       "<style scoped>\n",
       "    .dataframe tbody tr th:only-of-type {\n",
       "        vertical-align: middle;\n",
       "    }\n",
       "\n",
       "    .dataframe tbody tr th {\n",
       "        vertical-align: top;\n",
       "    }\n",
       "\n",
       "    .dataframe thead th {\n",
       "        text-align: right;\n",
       "    }\n",
       "</style>\n",
       "<table border=\"1\" class=\"dataframe\">\n",
       "  <thead>\n",
       "    <tr style=\"text-align: right;\">\n",
       "      <th></th>\n",
       "      <th>Word</th>\n",
       "      <th>Coeff</th>\n",
       "    </tr>\n",
       "  </thead>\n",
       "  <tbody>\n",
       "    <tr>\n",
       "      <th>279977</th>\n",
       "      <td>in the state of</td>\n",
       "      <td>-0.059821</td>\n",
       "    </tr>\n",
       "    <tr>\n",
       "      <th>411085</th>\n",
       "      <td>on one of the</td>\n",
       "      <td>-0.060467</td>\n",
       "    </tr>\n",
       "    <tr>\n",
       "      <th>547953</th>\n",
       "      <td>that there was no</td>\n",
       "      <td>-0.061727</td>\n",
       "    </tr>\n",
       "    <tr>\n",
       "      <th>196474</th>\n",
       "      <td>first country in the</td>\n",
       "      <td>-0.061830</td>\n",
       "    </tr>\n",
       "    <tr>\n",
       "      <th>558081</th>\n",
       "      <td>the head of the</td>\n",
       "      <td>-0.072152</td>\n",
       "    </tr>\n",
       "    <tr>\n",
       "      <th>68014</th>\n",
       "      <td>aung san suu kyi</td>\n",
       "      <td>-0.073747</td>\n",
       "    </tr>\n",
       "    <tr>\n",
       "      <th>412247</th>\n",
       "      <td>on the brink of</td>\n",
       "      <td>-0.076092</td>\n",
       "    </tr>\n",
       "    <tr>\n",
       "      <th>223339</th>\n",
       "      <td>german chancellor angela merkel</td>\n",
       "      <td>-0.079750</td>\n",
       "    </tr>\n",
       "    <tr>\n",
       "      <th>669774</th>\n",
       "      <td>years in jail for</td>\n",
       "      <td>-0.086701</td>\n",
       "    </tr>\n",
       "    <tr>\n",
       "      <th>138758</th>\n",
       "      <td>country in the world</td>\n",
       "      <td>-0.090888</td>\n",
       "    </tr>\n",
       "  </tbody>\n",
       "</table>\n",
       "</div>"
      ],
      "text/plain": [
       "                                   Word     Coeff\n",
       "279977                  in the state of -0.059821\n",
       "411085                    on one of the -0.060467\n",
       "547953                that there was no -0.061727\n",
       "196474             first country in the -0.061830\n",
       "558081                  the head of the -0.072152\n",
       "68014                  aung san suu kyi -0.073747\n",
       "412247                  on the brink of -0.076092\n",
       "223339  german chancellor angela merkel -0.079750\n",
       "669774                years in jail for -0.086701\n",
       "138758             country in the world -0.090888"
      ]
     },
     "execution_count": 60,
     "metadata": {},
     "output_type": "execute_result"
    }
   ],
   "source": [
    "Pcoeffdf.tail(10)\n",
    "\n",
    "# The results are a bit more interesting compared to the other models as with 4 words we can identify the meaning \n",
    "# of the short sentences."
   ]
  },
  {
   "cell_type": "code",
   "execution_count": null,
   "metadata": {},
   "outputs": [],
   "source": []
  }
 ],
 "metadata": {
  "kernelspec": {
   "display_name": "Python 3",
   "language": "python",
   "name": "python3"
  },
  "language_info": {
   "codemirror_mode": {
    "name": "ipython",
    "version": 3
   },
   "file_extension": ".py",
   "mimetype": "text/x-python",
   "name": "python",
   "nbconvert_exporter": "python",
   "pygments_lexer": "ipython3",
   "version": "3.7.3"
  }
 },
 "nbformat": 4,
 "nbformat_minor": 2
}
